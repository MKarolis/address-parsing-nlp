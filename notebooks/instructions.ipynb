{
 "cells": [
  {
   "cell_type": "markdown",
   "id": "00b08495",
   "metadata": {},
   "source": [
    "# Intructions for running the solution\n",
    "## Initial setup\n",
    "The solution depends on the following python packages:\n",
    "  - numpy\n",
    "  - pandas\n",
    "  - openpyxl\n",
    "  - xlsxwriter\n",
    "  - spacy=2.3.5\n",
    "  - spacy-lookups-data=1.0.0\n",
    "  - scikit-learn\n",
    "\n",
    "You can either install them manually, or create a new Anaconda environment with all of them.\n",
    "### Anaconda setup\n",
    "1. Open Anaconda prompt in the directory of solution.\n",
    "2. Execute the following command, replace 'envName' with the environment name of your choice\n",
    "```shell\n",
    "conda env update -n envName -f nlp-deps.yaml\n",
    "```\n",
    "3. Activate new environment\n",
    "```shell\n",
    "conda activate envName\n",
    "```\n",
    "4. Run the scripts\n",
    "```shell\n",
    "python train.py\n",
    "```\n",
    "\n",
    "## Submission files\n",
    "- `files/training_data.xlsx` - Initial training data\n",
    "- `files/training_data_fixed.xlsx` - Training data with mapping errors manually fixed\n",
    "- `notebooks/instructions.html` - instructions how to use the solution as a HTML file\n",
    "- `notebooks/documentation.ipynb` - documentation of the work as a jupyter notebook\n",
    "- `notebooks/documentation.html` - documentation of the work as a HTML file\n",
    "- `utils.py` general purpose utility functions used by the code\n",
    "- `train.py` - a script that trains the NER model using `training_data_fixed.xlsx` and saves it into a catalog `models/trained_model`\n",
    "- `deploy.py` - a script that uses the model to parse input data and saves it into `parsed.xlsx`\n",
    "\n",
    "## Running the solution\n",
    "1. Run `train.py` to train the NLP model\n",
    "\n",
    "Change `TRAIN_ITERATION_COUNT` constant in the script to change the training iteration count, change `TRAIN_DROP_PROPERTY` constant to change the value of `drop` parameter\n",
    "2. Run `deploy.py` to use the trained model to classify new addresses."
   ]
  }
 ],
 "metadata": {
  "kernelspec": {
   "display_name": "Python 3 (ipykernel)",
   "language": "python",
   "name": "python3"
  },
  "language_info": {
   "codemirror_mode": {
    "name": "ipython",
    "version": 3
   },
   "file_extension": ".py",
   "mimetype": "text/x-python",
   "name": "python",
   "nbconvert_exporter": "python",
   "pygments_lexer": "ipython3",
   "version": "3.9.7"
  }
 },
 "nbformat": 4,
 "nbformat_minor": 5
}
